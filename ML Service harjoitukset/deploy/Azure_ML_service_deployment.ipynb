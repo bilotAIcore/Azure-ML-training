{
 "cells": [
  {
   "cell_type": "markdown",
   "metadata": {},
   "source": [
    "<h1 style=\"color:blue;text-align:center\">Azure ML Service</h1>"
   ]
  },
  {
   "cell_type": "markdown",
   "metadata": {},
   "source": [
    "<p style=\"text-align:center;\"><img style=\"width:80%\" src=\"https://docs.microsoft.com/en-us/samples/microsoft/mlopspython/mlops-with-azure-ml/media/ml-lifecycle.png\" /></p>"
   ]
  },
  {
   "cell_type": "markdown",
   "metadata": {},
   "source": [
    "<h1 style=\"color:blue;text-align:center\"><i>Tuotannollistaminen</i></h1>\n",
    "\n",
    "Tässä viimeisessä harjoituksessa viedään koneoppimismalli tuotantoon. Käymme läpi seuraavat vaiheet: (1) mallin rekisteröinti työtilaan, (2) ennustelogiikan luominen, (3) Python ympäristön vaatimusten dokumentointi, (4) kontti-imagen luonti ja (5) imagen julkaisu web-servisenä."
   ]
  },
  {
   "cell_type": "markdown",
   "metadata": {},
   "source": [
    "<hr>\n",
    "\n",
    "## Azure ML työtilan asetus\n",
    "Aluksi ladataan `azure.core` python kirjasto:"
   ]
  },
  {
   "cell_type": "code",
   "execution_count": 1,
   "metadata": {},
   "outputs": [
    {
     "name": "stdout",
     "output_type": "stream",
     "text": [
      "This notebook was created using SDK version 1.0.62, you are currently running version 1.0.83\n"
     ]
    }
   ],
   "source": [
    "from azureml.core import Experiment, Workspace, Run\n",
    "import azureml.core\n",
    "\n",
    "# Check core SDK version number\n",
    "\n",
    "print(\"This notebook was created using SDK version 1.0.62, you are currently running version\", \n",
    "      azureml.core.VERSION)"
   ]
  },
  {
   "cell_type": "markdown",
   "metadata": {},
   "source": [
    "Seuraavaksi luetaan konfiguraatiotiedosto (JSON), johon on määritelty Azure ML Service työtilan tiedot:"
   ]
  },
  {
   "cell_type": "code",
   "execution_count": 2,
   "metadata": {},
   "outputs": [
    {
     "data": {
      "text/plain": [
       "{'ws_name': 'MLtraining',\n",
       " 'subscription_id': '8762927b-0537-46e8-8e47-aa45d83df5f0',\n",
       " 'resource_group': 'koulutukset'}"
      ]
     },
     "execution_count": 2,
     "metadata": {},
     "output_type": "execute_result"
    }
   ],
   "source": [
    "import json\n",
    "\n",
    "# read file\n",
    "with open('../ws_conf.json', 'r') as myfile:\n",
    "    data = myfile.read()\n",
    "\n",
    "# parse file\n",
    "conf = json.loads(data)\n",
    "\n",
    "conf"
   ]
  },
  {
   "cell_type": "markdown",
   "metadata": {},
   "source": [
    "Käyttäen funktiota `Workspace`, luodaan työtilaobjekti, jota tarvitaan myöhemmin: "
   ]
  },
  {
   "cell_type": "code",
   "execution_count": 3,
   "metadata": {},
   "outputs": [],
   "source": [
    "ws = Workspace(subscription_id = conf['subscription_id'],\n",
    "               resource_group = conf['resource_group'],\n",
    "               workspace_name = conf['ws_name'])"
   ]
  },
  {
   "cell_type": "code",
   "execution_count": 4,
   "metadata": {},
   "outputs": [
    {
     "name": "stdout",
     "output_type": "stream",
     "text": [
      "Workspace name: MLtraining\n",
      "Azure region: northeurope\n",
      "Subscription id: 8762927b-0537-46e8-8e47-aa45d83df5f0\n",
      "Resource group: koulutukset\n"
     ]
    }
   ],
   "source": [
    "print('Workspace name: ' + ws.name, \n",
    "      'Azure region: ' + ws.location, \n",
    "      'Subscription id: ' + ws.subscription_id, \n",
    "      'Resource group: ' + ws.resource_group, sep='\\n')"
   ]
  },
  {
   "cell_type": "markdown",
   "metadata": {},
   "source": [
    "<hr>\n",
    "\n",
    "## Mallin rekisteröinti\n",
    "\n"
   ]
  },
  {
   "cell_type": "markdown",
   "metadata": {},
   "source": [
    "Jotta malli voidaan julkaista webservisenä, se täytyy ensin rekisteröidä Azure ML Service työtilaan. Malli pitää käydä hakemassa oikeasta eksperimentistä, eli ensi luodaan objekti joka linkkaa haluttuun eksperimentiin:"
   ]
  },
  {
   "cell_type": "code",
   "execution_count": 5,
   "metadata": {},
   "outputs": [],
   "source": [
    "experiment = Experiment(workspace = ws, name = \"parameter-tuning\")"
   ]
  },
  {
   "cell_type": "markdown",
   "metadata": {},
   "source": [
    "Seuraavaksi haetaan eksperimentissä ajo, joka aikaisemmin tägättiin parhaaksi:"
   ]
  },
  {
   "cell_type": "code",
   "execution_count": 35,
   "metadata": {},
   "outputs": [
    {
     "data": {
      "text/plain": [
       "'69031ea3-f863-4a8c-a858-5fda7f3c2e2c'"
      ]
     },
     "execution_count": 35,
     "metadata": {},
     "output_type": "execute_result"
    }
   ],
   "source": [
    "best_run = [r for r in experiment.get_runs(tags='Best Run')][0]\n",
    "best_run.id"
   ]
  },
  {
   "cell_type": "markdown",
   "metadata": {},
   "source": [
    "Ajon aikana tallennetut tiedot saadaan näkyviin seuraavasti: "
   ]
  },
  {
   "cell_type": "code",
   "execution_count": 36,
   "metadata": {},
   "outputs": [
    {
     "data": {
      "text/plain": [
       "['logs/user_log.txt', 'model.pkl', 'outputs/model.pkl']"
      ]
     },
     "execution_count": 36,
     "metadata": {},
     "output_type": "execute_result"
    }
   ],
   "source": [
    "# View the files in the run\n",
    "[f for f in best_run.get_file_names()]"
   ]
  },
  {
   "cell_type": "markdown",
   "metadata": {},
   "source": [
    "Haluttu objekti löytyy polun `'outputs/model.pkl'` takaa ja se saadaan rekisteröityä `.register_model()` metodilla. Tarvitsee vain antaa mallin polku ja määritellä mallille nimi:"
   ]
  },
  {
   "cell_type": "code",
   "execution_count": 37,
   "metadata": {},
   "outputs": [
    {
     "data": {
      "text/plain": [
       "Model(workspace=Workspace.create(name='MLtraining', subscription_id='8762927b-0537-46e8-8e47-aa45d83df5f0', resource_group='koulutukset'), name=best_model, id=best_model:2, version=2, tags={}, properties={})"
      ]
     },
     "execution_count": 37,
     "metadata": {},
     "output_type": "execute_result"
    }
   ],
   "source": [
    "# Register the model with the workspace\n",
    "model = best_run.register_model(model_name='best_model', model_path='outputs/model.pkl')\n",
    "model"
   ]
  },
  {
   "cell_type": "markdown",
   "metadata": {},
   "source": [
    "Seuraavassa `Model.list()` funktiolla listataan työtilaan rekisteröidyt mallit:"
   ]
  },
  {
   "cell_type": "code",
   "execution_count": 47,
   "metadata": {},
   "outputs": [
    {
     "name": "stdout",
     "output_type": "stream",
     "text": [
      "Experiment: parameter-tuning \n",
      "model name: best_model \n",
      "version: 2\n"
     ]
    }
   ],
   "source": [
    "# Find all models called \"best_model\" and display their version numbers\n",
    "from azureml.core.model import Model\n",
    "\n",
    "models = Model.list(ws, name='best_model')\n",
    "for m in models:\n",
    "    print('Experiment: '+m.experiment_name,'\\nmodel name: '+m.name, '\\nversion: '+str(m.version))"
   ]
  },
  {
   "cell_type": "markdown",
   "metadata": {},
   "source": [
    "## Ennustelogiikka\n",
    "\n",
    "Mallin rekisteröinti ei vielä riitä toimivan ennustepalvelun luontiin, vaan on luotava myös skripti, jossa kerrotaan mitä rekisteröidyllä tehdään ja miten se käytännössä trapahtuu. Tässä skriptissä, joka on hyvä nimetä esim. `score.py`, tulee olla vähintään kaksi funktiota `init()` ja `run()`, joista ensimmäinen kutsutaan ennustepalvelun käynnistyessä ja jälkimmäinen on toiminnassa ennustepalvelua kutsuttaessa. Tässä esimerkissä tarvittava skripti näyttää esim. tältä:"
   ]
  },
  {
   "cell_type": "raw",
   "metadata": {},
   "source": [
    "import pickle\n",
    "import json\n",
    "import numpy as np\n",
    "import joblib\n",
    "from sklearn.neighbors import KNeighborsRegressor\n",
    "from azureml.core.model import Model\n",
    "\n",
    "\n",
    "def init():\n",
    "    global model\n",
    "    # note here \"best_model\" is the name of the model registered under the workspace\n",
    "    # this call should return the path to the model.pkl file on the local disk.\n",
    "    model_path = Model.get_model_path(model_name='best_model')\n",
    "    # deserialize the model file back into a sklearn model\n",
    "    model = joblib.load(model_path)\n",
    "\n",
    "\n",
    "# note you can pass in multiple rows for scoring\n",
    "def run(raw_data):\n",
    "    try:\n",
    "        data = json.loads(raw_data)['data']\n",
    "        data = np.array(data)\n",
    "        result = model.predict(data)\n",
    "\n",
    "        # you can return any data type as long as it is JSON-serializable\n",
    "        return result.tolist()\n",
    "    except Exception as e:\n",
    "        result = str(e)\n",
    "        return result"
   ]
  },
  {
   "cell_type": "markdown",
   "metadata": {},
   "source": [
    "## Ympäristön määrittely\n",
    "\n",
    "Ennustepalvelun käyttäminen, joka voi sisältää sekä datan prosessointia että mallin soveltamista, vaatii tietyn kokoelman Python kirjastoja. Tätä varten tarvitaan tiedosto, jossa riippuvuudet on listattu, jotta **Docker** osaa asentaa tarvittavat kirjastot. Riippuvuus-tiedoston voi kätevästi luoda `CondaDependencies()` Python-luokan avulla. Tässä tapauksessa tarvitaan `scikit-learn` kirjasto, jolla malli on luotu."
   ]
  },
  {
   "cell_type": "code",
   "execution_count": 53,
   "metadata": {},
   "outputs": [
    {
     "name": "stdout",
     "output_type": "stream",
     "text": [
      "# Conda environment specification. The dependencies defined in this file will\n",
      "# be automatically provisioned for runs with userManagedDependencies=False.\n",
      "\n",
      "# Details about the Conda environment file format:\n",
      "# https://conda.io/docs/user-guide/tasks/manage-environments.html#create-env-file-manually\n",
      "\n",
      "name: project_environment\n",
      "dependencies:\n",
      "  # The python interpreter version.\n",
      "  # Currently Azure ML only supports 3.5.2 and later.\n",
      "- python=3.6.2\n",
      "\n",
      "- pip:\n",
      "    # Required packages for AzureML execution, history, and data preparation.\n",
      "  - azureml-defaults\n",
      "\n",
      "- scikit-learn\n",
      "channels:\n",
      "- conda-forge\n",
      "\n"
     ]
    }
   ],
   "source": [
    "from azureml.core.conda_dependencies import CondaDependencies \n",
    "\n",
    "# Create an empty conda environment and add the scikit-learn package\n",
    "conda_dep = CondaDependencies()\n",
    "conda_dep.add_conda_package(\"scikit-learn\")\n",
    "\n",
    "# Display the environment\n",
    "print(conda_dep.serialize_to_string())\n",
    "\n",
    "# Write the environment to disk\n",
    "with open(\"dependencies.yml\",\"w\") as f:\n",
    "    f.write(conda_dep.serialize_to_string())"
   ]
  },
  {
   "cell_type": "markdown",
   "metadata": {},
   "source": [
    "Nyt meillä on kaikki tarvittava kasassa, sekä ennustelogiikka `score.py` -tiedostossa että Python-ympäristön määrittely `dependencies.yml`-tiedostossa. Seuraavaksi voimme luoda julkaisuun tarvittavan ympäristö objektin:"
   ]
  },
  {
   "cell_type": "code",
   "execution_count": 55,
   "metadata": {},
   "outputs": [],
   "source": [
    "from azureml.core.environment import Environment\n",
    "\n",
    "deploy_env = Environment(name=\"myenv\")\n",
    "\n",
    "# Adds dependencies to PythonSection of myenv\n",
    "deploy_env.python.conda_dependencies = conda_dep"
   ]
  },
  {
   "cell_type": "markdown",
   "metadata": {},
   "source": [
    "## Ennustepalvelun luonti\n",
    "\n",
    "Tarvitaan vielä ennustepalvelun konfiguraatio-objektit:"
   ]
  },
  {
   "cell_type": "code",
   "execution_count": 64,
   "metadata": {},
   "outputs": [],
   "source": [
    "from azureml.core.model import InferenceConfig\n",
    "from azureml.core.webservice import AciWebservice, Webservice\n",
    "\n",
    "# Represents configuration settings for a custom environment used for deployment:\n",
    "inference_config = InferenceConfig(entry_script = \"score.py\",\n",
    "                                   environment = deploy_env)\n",
    "\n",
    "# Determine ACI compute resource:\n",
    "deployment_config = AciWebservice.deploy_configuration(cpu_cores = 1, memory_gb = 1)"
   ]
  },
  {
   "cell_type": "markdown",
   "metadata": {},
   "source": [
    "ja sitten voidaan viimein pystyttää palvelu:"
   ]
  },
  {
   "cell_type": "code",
   "execution_count": 60,
   "metadata": {},
   "outputs": [
    {
     "name": "stdout",
     "output_type": "stream",
     "text": [
      "Running............................\n",
      "Succeeded\n",
      "ACI service creation operation finished, operation \"Succeeded\"\n",
      "Healthy\n"
     ]
    }
   ],
   "source": [
    "# Deploy model as a webservice:\n",
    "service = Model.deploy(workspace = ws, \n",
    "                       name = \"aciservice\", \n",
    "                       models = [model], \n",
    "                       inference_config = inference_config, \n",
    "                       deployment_config = deployment_config)\n",
    "\n",
    "service.wait_for_deployment(show_output = True)\n",
    "\n",
    "print(service.state)"
   ]
  },
  {
   "cell_type": "code",
   "execution_count": 65,
   "metadata": {},
   "outputs": [
    {
     "data": {
      "text/plain": [
       "AciWebservice(workspace=Workspace.create(name='MLtraining', subscription_id='8762927b-0537-46e8-8e47-aa45d83df5f0', resource_group='koulutukset'), name=aciservice, image_id=None, compute_type=None, state=ACI, scoring_uri=Healthy, tags=http://a621924d-29c8-474b-a249-0c5388e011fb.northeurope.azurecontainer.io/score, properties={}, created_by={})"
      ]
     },
     "execution_count": 65,
     "metadata": {},
     "output_type": "execute_result"
    }
   ],
   "source": [
    "service"
   ]
  },
  {
   "cell_type": "markdown",
   "metadata": {},
   "source": [
    "## Palvelun testaus\n",
    "\n",
    "Testausta varten otetaan mallin opetukseen käyttämästämme datasta ensimmäinen rivi. Oleellista on muistaa, mitä muuttujia mallin opetukseen on käytetty, koska ennustelogiikka vaatii kyselyn noudattavan samaa dimensionaalisuutta. "
   ]
  },
  {
   "cell_type": "code",
   "execution_count": 84,
   "metadata": {},
   "outputs": [],
   "source": [
    "import pandas as pd\n",
    "\n",
    "features = ['LotArea', 'HalfBath', 'OpenPorchSF', 'WoodDeckSF', '2ndFlrSF',\n",
    "       'BsmtFinSF1', 'Fireplaces', 'YearRemodAdd', 'YearBuilt', 'TotRmsAbvGrd',\n",
    "       'FullBath', '1stFlrSF', 'TotalBsmtSF', 'GarageArea', 'GarageCars',\n",
    "       'GrLivArea', 'OverallQual','SalePrice']\n",
    "\n",
    "df = pd.read_csv('../tuning/house_prices.csv',nrows=1).dropna(axis=1).loc[:,features]"
   ]
  },
  {
   "cell_type": "code",
   "execution_count": 91,
   "metadata": {},
   "outputs": [
    {
     "data": {
      "text/plain": [
       "[217264.125]"
      ]
     },
     "execution_count": 91,
     "metadata": {},
     "output_type": "execute_result"
    }
   ],
   "source": [
    "import json\n",
    "# Scrape the first row from the test set.\n",
    "test_samples = json.dumps({\"data\": df.drop('SalePrice',axis=1).values.tolist()})\n",
    "\n",
    "# Score on our service:\n",
    "pred = service.run(input_data = test_samples)\n",
    "pred"
   ]
  },
  {
   "cell_type": "markdown",
   "metadata": {},
   "source": [
    "Koska tiedämme todellisen hinnan, voimme laskea paljonko ennuste meni metsään:"
   ]
  },
  {
   "cell_type": "code",
   "execution_count": 100,
   "metadata": {},
   "outputs": [
    {
     "name": "stdout",
     "output_type": "stream",
     "text": [
      "prediction error: 4.2 %\n"
     ]
    }
   ],
   "source": [
    "from numpy import round\n",
    "print('prediction error:', round(100*float((pred - df['SalePrice'])/df['SalePrice']),2),'%')"
   ]
  },
  {
   "cell_type": "markdown",
   "metadata": {},
   "source": [
    "## Lopetus\n",
    "Ennustepalvelun ylläpitäminen maksaa rahaa. Nöäin ollen palvelu on parasta ajaa alas, jos sille ei ole tarvetta."
   ]
  },
  {
   "cell_type": "code",
   "execution_count": 101,
   "metadata": {},
   "outputs": [
    {
     "name": "stdout",
     "output_type": "stream",
     "text": [
      "CPU times: user 48.4 ms, sys: 20.1 ms, total: 68.5 ms\n",
      "Wall time: 3 s\n"
     ]
    }
   ],
   "source": [
    "%%time\n",
    "service.delete()"
   ]
  },
  {
   "cell_type": "code",
   "execution_count": null,
   "metadata": {},
   "outputs": [],
   "source": []
  }
 ],
 "metadata": {
  "kernelspec": {
   "display_name": "koulutus",
   "language": "python",
   "name": "koulutus"
  },
  "language_info": {
   "codemirror_mode": {
    "name": "ipython",
    "version": 3
   },
   "file_extension": ".py",
   "mimetype": "text/x-python",
   "name": "python",
   "nbconvert_exporter": "python",
   "pygments_lexer": "ipython3",
   "version": "3.7.3"
  },
  "toc": {
   "base_numbering": 1,
   "nav_menu": {},
   "number_sections": true,
   "sideBar": true,
   "skip_h1_title": false,
   "title_cell": "Table of Contents",
   "title_sidebar": "Contents",
   "toc_cell": false,
   "toc_position": {},
   "toc_section_display": true,
   "toc_window_display": false
  }
 },
 "nbformat": 4,
 "nbformat_minor": 2
}
